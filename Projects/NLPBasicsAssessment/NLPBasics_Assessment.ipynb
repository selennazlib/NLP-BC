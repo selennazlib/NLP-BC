{
  "nbformat": 4,
  "nbformat_minor": 0,
  "metadata": {
    "colab": {
      "name": "NLPBasics-Assessment.ipynb",
      "provenance": [],
      "collapsed_sections": []
    },
    "kernelspec": {
      "name": "python3",
      "display_name": "Python 3"
    },
    "language_info": {
      "name": "python"
    }
  },
  "cells": [
    {
      "cell_type": "code",
      "execution_count": 59,
      "metadata": {
        "id": "fiOzXdtcA7No"
      },
      "outputs": [],
      "source": [
        "import spacy\n",
        "nlp = spacy.load('en_core_web_sm')"
      ]
    },
    {
      "cell_type": "code",
      "source": [
        "# 1. Create a Doc object from the file\n",
        "with open('owlcreek.txt') as f:\n",
        "  doc = nlp(f.read())"
      ],
      "metadata": {
        "id": "9Tk1bMbBBHMw"
      },
      "execution_count": 60,
      "outputs": []
    },
    {
      "cell_type": "code",
      "source": [
        "doc[:36]"
      ],
      "metadata": {
        "colab": {
          "base_uri": "https://localhost:8080/"
        },
        "id": "yLNcNCZLDzlv",
        "outputId": "83a08575-108f-469d-8c93-1b7b55b22367"
      },
      "execution_count": 61,
      "outputs": [
        {
          "output_type": "execute_result",
          "data": {
            "text/plain": [
              "AN OCCURRENCE AT OWL CREEK BRIDGE\n",
              "by Ambrose Bierce\n",
              "I\n",
              "\n",
              " \n",
              " A man stood upon a railroad bridge in northern Alabama, looking down\n",
              "into the swift water twenty feet below.  "
            ]
          },
          "metadata": {},
          "execution_count": 61
        }
      ]
    },
    {
      "cell_type": "code",
      "source": [
        "# 2. How many tokens are contained in the file?\n",
        "len(doc)"
      ],
      "metadata": {
        "colab": {
          "base_uri": "https://localhost:8080/"
        },
        "id": "joPHCIMJD-rH",
        "outputId": "b90a5d42-13eb-4213-d324-c1bc9709959e"
      },
      "execution_count": 62,
      "outputs": [
        {
          "output_type": "execute_result",
          "data": {
            "text/plain": [
              "4835"
            ]
          },
          "metadata": {},
          "execution_count": 62
        }
      ]
    },
    {
      "cell_type": "code",
      "source": [
        "# 3. How many sentences are contained in the file?\n",
        "sents = [sent for sent in doc.sents]\n",
        "len(sents)"
      ],
      "metadata": {
        "colab": {
          "base_uri": "https://localhost:8080/"
        },
        "id": "ugOKnHCGE2pr",
        "outputId": "60e28b1f-b0f0-4e0b-a3d3-8e8b6c9325db"
      },
      "execution_count": 63,
      "outputs": [
        {
          "output_type": "execute_result",
          "data": {
            "text/plain": [
              "205"
            ]
          },
          "metadata": {},
          "execution_count": 63
        }
      ]
    },
    {
      "cell_type": "code",
      "source": [
        "# 4. Print the second sentence in the document\n",
        "# there was a point that I couldn't solve so I used .split and indexing to get the second sentence of the text( title counts as the first sentence)\n",
        "print(sents[0].text.split('\\n')[5])"
      ],
      "metadata": {
        "colab": {
          "base_uri": "https://localhost:8080/"
        },
        "id": "9D963zI7GNvN",
        "outputId": "82045362-3e83-4ea9-9540-fda624f00dfc"
      },
      "execution_count": 72,
      "outputs": [
        {
          "output_type": "stream",
          "name": "stdout",
          "text": [
            " A man stood upon a railroad bridge in northern Alabama, looking down\n"
          ]
        }
      ]
    },
    {
      "cell_type": "code",
      "source": [
        "# 5. For each token in the sentence above, print its text, POS tag, dep tag and lemma\n",
        "for token in sents[1]:\n",
        "  print(f'{token.text:{10}} {token.pos_:{10}} {token.dep_:{10}} {token.lemma_:{10}} ')"
      ],
      "metadata": {
        "colab": {
          "base_uri": "https://localhost:8080/"
        },
        "id": "Qw6JLDCEGZZv",
        "outputId": "d796a183-6659-4024-91b5-ae316afc9125"
      },
      "execution_count": 83,
      "outputs": [
        {
          "output_type": "stream",
          "name": "stdout",
          "text": [
            "           SPACE      dep                   \n",
            "The        DET        det        the        \n",
            "man        NOUN       poss       man        \n",
            "'s         PART       case       's         \n",
            "hands      NOUN       nsubj      hand       \n",
            "were       AUX        ROOT       be         \n",
            "behind     ADP        prep       behind     \n",
            "\n",
            "          SPACE      dep        \n",
            "          \n",
            "his        PRON       poss       his        \n",
            "back       NOUN       pobj       back       \n",
            ",          PUNCT      punct      ,          \n",
            "the        DET        det        the        \n",
            "wrists     NOUN       dep        wrist      \n",
            "bound      VERB       acl        bind       \n",
            "with       ADP        prep       with       \n",
            "a          DET        det        a          \n",
            "cord       NOUN       pobj       cord       \n",
            ".          PUNCT      punct      .          \n"
          ]
        }
      ]
    },
    {
      "cell_type": "code",
      "source": [
        "# 6. Write a matcher called 'Swimming' that finds both occurrences of the phrase \"swimming vigorously\" in the text\n",
        "# Import the Matcher library:\n",
        "\n",
        "from spacy.matcher import Matcher\n",
        "matcher = Matcher(nlp.vocab)"
      ],
      "metadata": {
        "id": "EfdhkmlXL2z0"
      },
      "execution_count": 84,
      "outputs": []
    },
    {
      "cell_type": "code",
      "source": [
        "# swimming vigorously\n",
        "pattern = [{'LOWER':'swimming'}, {'IS_SPACE':True}, {'LOWER':'vigorously'}]"
      ],
      "metadata": {
        "id": "NiUfix_RNdcW"
      },
      "execution_count": 85,
      "outputs": []
    },
    {
      "cell_type": "code",
      "source": [
        "matcher.add('Swimming', [pattern])"
      ],
      "metadata": {
        "id": "ikEU0LUFN4Pd"
      },
      "execution_count": 87,
      "outputs": []
    },
    {
      "cell_type": "code",
      "source": [
        "found_matches = matcher(doc)\n",
        "print(found_matches)"
      ],
      "metadata": {
        "id": "ojWBObiSN_Hc",
        "outputId": "214a7e8c-57f0-4869-8d2e-61522276bd6b",
        "colab": {
          "base_uri": "https://localhost:8080/"
        }
      },
      "execution_count": 88,
      "outputs": [
        {
          "output_type": "stream",
          "name": "stdout",
          "text": [
            "[(12881893835109366681, 1274, 1277), (12881893835109366681, 3609, 3612)]\n"
          ]
        }
      ]
    },
    {
      "cell_type": "code",
      "source": [
        "print(doc[1267:1291])"
      ],
      "metadata": {
        "id": "3z9CPNiwOLof",
        "outputId": "74ea7dbc-8530-4c7d-c128-842e17b8808d",
        "colab": {
          "base_uri": "https://localhost:8080/"
        }
      },
      "execution_count": 95,
      "outputs": [
        {
          "output_type": "stream",
          "name": "stdout",
          "text": [
            "I could evade the bullets and, swimming\n",
            "vigorously, reach the bank, take to the woods and get away home.\n"
          ]
        }
      ]
    },
    {
      "cell_type": "code",
      "source": [
        "print(doc[3596:3617])"
      ],
      "metadata": {
        "id": "MoVOReHEOTw1",
        "outputId": "bfc15030-c818-4696-e27b-507dde819c5f",
        "colab": {
          "base_uri": "https://localhost:8080/"
        }
      },
      "execution_count": 102,
      "outputs": [
        {
          "output_type": "stream",
          "name": "stdout",
          "text": [
            "The hunted man saw all this over his shoulder; he was now swimming\n",
            "vigorously with the current.  \n"
          ]
        }
      ]
    },
    {
      "cell_type": "code",
      "source": [
        ""
      ],
      "metadata": {
        "id": "BneppKmEOsn_"
      },
      "execution_count": null,
      "outputs": []
    }
  ]
}