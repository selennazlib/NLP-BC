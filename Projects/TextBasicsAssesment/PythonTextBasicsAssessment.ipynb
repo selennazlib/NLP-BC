{
  "nbformat": 4,
  "nbformat_minor": 0,
  "metadata": {
    "colab": {
      "name": "PythonTextBasicsAssessment.ipynb",
      "provenance": []
    },
    "kernelspec": {
      "name": "python3",
      "display_name": "Python 3"
    },
    "language_info": {
      "name": "python"
    }
  },
  "cells": [
    {
      "cell_type": "code",
      "execution_count": 2,
      "metadata": {
        "colab": {
          "base_uri": "https://localhost:8080/"
        },
        "id": "9CHr5ZkpxJ8V",
        "outputId": "ace15214-8d06-4068-e880-893efa305956"
      },
      "outputs": [
        {
          "output_type": "stream",
          "name": "stdout",
          "text": [
            "NLP stands for Natural Language Processing\n"
          ]
        }
      ],
      "source": [
        "# 1. Print an f-string that displays NLP stands for Natural Language Processing using the variables provided.\n",
        "abbr = 'NLP'\n",
        "full_text = 'Natural Language Processing'\n",
        "\n",
        "# Enter your code here:\n",
        "print(f\"{abbr} stands for {full_text}\")"
      ]
    },
    {
      "cell_type": "code",
      "source": [
        "# 2. Create a file in the current working directory called contacts.txt by running the cell below:\n",
        "%%writefile contacts.txt\n",
        "First_Name Last_Name, Title, Extension, Email"
      ],
      "metadata": {
        "colab": {
          "base_uri": "https://localhost:8080/"
        },
        "id": "TslWUw2zxf5E",
        "outputId": "a806bc86-ae67-46a2-83d5-558876b67883"
      },
      "execution_count": 3,
      "outputs": [
        {
          "output_type": "stream",
          "name": "stdout",
          "text": [
            "Writing contacts.txt\n"
          ]
        }
      ]
    },
    {
      "cell_type": "code",
      "source": [
        "# 3. Open the file and use .read() to save the contents of the file to a string called fields. Make sure the file is closed at the end.\n",
        "# Write your code here:\n",
        "\n",
        "my_file = open('contacts.txt')\n",
        "fields = my_file.read()\n",
        "my_file.close()    \n",
        "# Run fields to see the contents of contacts.txt:\n",
        "fields"
      ],
      "metadata": {
        "colab": {
          "base_uri": "https://localhost:8080/",
          "height": 35
        },
        "id": "wW0wscQFxvGW",
        "outputId": "4cc6e556-4787-4625-96ca-199a1339504e"
      },
      "execution_count": 5,
      "outputs": [
        {
          "output_type": "execute_result",
          "data": {
            "text/plain": [
              "'First_Name Last_Name, Title, Extension, Email'"
            ],
            "application/vnd.google.colaboratory.intrinsic+json": {
              "type": "string"
            }
          },
          "metadata": {},
          "execution_count": 5
        }
      ]
    },
    {
      "cell_type": "code",
      "source": [
        "!pip install PyPDF2"
      ],
      "metadata": {
        "colab": {
          "base_uri": "https://localhost:8080/"
        },
        "id": "mu1U5R8ty2Jn",
        "outputId": "90d5d239-581f-46a8-b27f-b350c988e6cb"
      },
      "execution_count": 7,
      "outputs": [
        {
          "output_type": "stream",
          "name": "stdout",
          "text": [
            "Looking in indexes: https://pypi.org/simple, https://us-python.pkg.dev/colab-wheels/public/simple/\n",
            "Collecting PyPDF2\n",
            "  Downloading PyPDF2-2.4.2-py3-none-any.whl (199 kB)\n",
            "\u001b[K     |████████████████████████████████| 199 kB 5.4 MB/s \n",
            "\u001b[?25hRequirement already satisfied: typing-extensions in /usr/local/lib/python3.7/dist-packages (from PyPDF2) (4.1.1)\n",
            "Installing collected packages: PyPDF2\n",
            "Successfully installed PyPDF2-2.4.2\n"
          ]
        }
      ]
    },
    {
      "cell_type": "code",
      "source": [
        "# 4. Use PyPDF2 to open the file Business_Proposal.pdf. Extract the text of page 2.\n",
        "# Perform import\n",
        "import PyPDF2 as pdf\n",
        "\n",
        "# Open the file as a binary object\n",
        "my_file = open('Business_Proposal.pdf', 'rb')\n",
        "\n",
        "# Use PyPDF2 to read the text of the file\n",
        "pdf_reader = pdf.PdfFileReader(my_file)\n",
        "\n",
        "# Get the text from page 2 (CHALLENGE: Do this in one step!)\n",
        "page_two_text = pdf_reader.getPage(1).extract_text()\n",
        "\n",
        "# Close the file\n",
        "my_file.close()\n",
        "\n",
        "# Print the contents of page_two_text\n",
        "print(page_two_text)"
      ],
      "metadata": {
        "colab": {
          "base_uri": "https://localhost:8080/"
        },
        "id": "nF_h9iIjyD2P",
        "outputId": "2e4719be-2aee-42f1-c7f5-840980c53476"
      },
      "execution_count": 12,
      "outputs": [
        {
          "output_type": "stream",
          "name": "stdout",
          "text": [
            "AUTHORS:\n",
            " \n",
            "\n",
            "Amy Baker, Finance Chair, x345, abaker@ourcompany.com\n",
            "  \n",
            "\n",
            "Chris Donaldson, Accounting Dir., x621, cdonaldson@ourcompany.com\n",
            "  \n",
            "\n",
            "Erin Freeman, Sr. VP, x879, efreeman@ourcompany.com\n",
            "  \n"
          ]
        }
      ]
    },
    {
      "cell_type": "code",
      "source": [
        "# 5. Open the file contacts.txt in append mode. Add the text of page 2 from above to contacts.txt.\n",
        "app_file = open('contacts.txt', 'a+')\n",
        "app_file.write(page_two_text)"
      ],
      "metadata": {
        "colab": {
          "base_uri": "https://localhost:8080/"
        },
        "id": "b1e3lvvEyf6h",
        "outputId": "befc5139-3048-4e19-9fb1-53cd128033c0"
      },
      "execution_count": 18,
      "outputs": [
        {
          "output_type": "execute_result",
          "data": {
            "text/plain": [
              "194"
            ]
          },
          "metadata": {},
          "execution_count": 18
        }
      ]
    },
    {
      "cell_type": "code",
      "source": [
        "app_file.seek(0)\n",
        "print(app_file.read())"
      ],
      "metadata": {
        "colab": {
          "base_uri": "https://localhost:8080/"
        },
        "id": "qMrfUKYN0pm4",
        "outputId": "c7a6fa82-c793-4b86-ccf4-ae7a54a6749b"
      },
      "execution_count": 22,
      "outputs": [
        {
          "output_type": "stream",
          "name": "stdout",
          "text": [
            "First_Name Last_Name, Title, Extension, EmailAUTHORS:\n",
            " \n",
            "\n",
            "Amy Baker, Finance Chair, x345, abaker@ourcompany.com\n",
            "  \n",
            "\n",
            "Chris Donaldson, Accounting Dir., x621, cdonaldson@ourcompany.com\n",
            "  \n",
            "\n",
            "Erin Freeman, Sr. VP, x879, efreeman@ourcompany.com\n",
            "  \n"
          ]
        }
      ]
    },
    {
      "cell_type": "code",
      "source": [
        "# 6. Using the page_two_text variable created above, extract any email addresses that were contained in the file Business_Proposal.pdf.\n",
        "import re\n",
        "\n",
        "# Enter your regex pattern here. This may take several tries!\n",
        "pattern = r'\\S+@\\S+'\n",
        "\n",
        "re.findall(pattern, page_two_text)"
      ],
      "metadata": {
        "colab": {
          "base_uri": "https://localhost:8080/"
        },
        "id": "bTK4sjWg2JcX",
        "outputId": "a6e8e006-059b-4944-d8b8-9244c06c9b70"
      },
      "execution_count": 27,
      "outputs": [
        {
          "output_type": "execute_result",
          "data": {
            "text/plain": [
              "['abaker@ourcompany.com',\n",
              " 'cdonaldson@ourcompany.com',\n",
              " 'efreeman@ourcompany.com']"
            ]
          },
          "metadata": {},
          "execution_count": 27
        }
      ]
    },
    {
      "cell_type": "code",
      "source": [
        ""
      ],
      "metadata": {
        "id": "7QXpiscH3bth"
      },
      "execution_count": null,
      "outputs": []
    }
  ]
}