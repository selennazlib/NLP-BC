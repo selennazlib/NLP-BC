{
  "nbformat": 4,
  "nbformat_minor": 0,
  "metadata": {
    "colab": {
      "name": "NLP-WorkingWTextFiles-CheatSheet.ipynb",
      "provenance": [],
      "collapsed_sections": []
    },
    "kernelspec": {
      "name": "python3",
      "display_name": "Python 3"
    },
    "language_info": {
      "name": "python"
    }
  },
  "cells": [
    {
      "cell_type": "code",
      "execution_count": 1,
      "metadata": {
        "id": "ELvUnyXqZJC_"
      },
      "outputs": [],
      "source": [
        "# f string\n",
        "books = [('Author', 'Topic', 'Pages'), ('Twain', 'Rafting in water alone', 601), ('Feynman', 'Physics', 95), ('Hamilton', 'Mythology', 144)]"
      ]
    },
    {
      "cell_type": "code",
      "source": [
        "for book in books:\n",
        "  print(f\"Author is {book[0]}\")"
      ],
      "metadata": {
        "colab": {
          "base_uri": "https://localhost:8080/"
        },
        "id": "Qc4iDgB0aXh9",
        "outputId": "5cc464b4-ca81-4a6f-c3fa-6b5188c1c937"
      },
      "execution_count": 2,
      "outputs": [
        {
          "output_type": "stream",
          "name": "stdout",
          "text": [
            "Author is Author\n",
            "Author is Twain\n",
            "Author is Feynman\n",
            "Author is Hamilton\n"
          ]
        }
      ]
    },
    {
      "cell_type": "code",
      "source": [
        "for author, topic, pages in books:\n",
        "  print(f\"Author is {author}\")"
      ],
      "metadata": {
        "colab": {
          "base_uri": "https://localhost:8080/"
        },
        "id": "s60T4u1wafm6",
        "outputId": "0b32e5e9-8ebe-4ac8-ef9b-eb534d99df2b"
      },
      "execution_count": 3,
      "outputs": [
        {
          "output_type": "stream",
          "name": "stdout",
          "text": [
            "Author is Author\n",
            "Author is Twain\n",
            "Author is Feynman\n",
            "Author is Hamilton\n"
          ]
        }
      ]
    },
    {
      "cell_type": "code",
      "source": [
        "# you might see there is a padding issue that we have to fix\n",
        "for author, topic, pages in books:\n",
        "  print(f\"{author} {topic} {pages}\")"
      ],
      "metadata": {
        "colab": {
          "base_uri": "https://localhost:8080/"
        },
        "id": "B12v5pwwaxbM",
        "outputId": "d621579b-9191-4729-9083-5c5325af7fba"
      },
      "execution_count": 4,
      "outputs": [
        {
          "output_type": "stream",
          "name": "stdout",
          "text": [
            "Author Topic Pages\n",
            "Twain Rafting in water alone 601\n",
            "Feynman Physics 95\n",
            "Hamilton Mythology 144\n"
          ]
        }
      ]
    },
    {
      "cell_type": "code",
      "source": [
        "# there is a solution . we can add a padding to the columns with this way , but still it's not right it's because our pages column is integer \n",
        "for author, topic, pages in books:\n",
        "  print(f\"{author:{10}} {topic:{40}} {pages:{10}}\")"
      ],
      "metadata": {
        "colab": {
          "base_uri": "https://localhost:8080/"
        },
        "id": "474JVQ4dbMnF",
        "outputId": "f74b2944-515a-4704-eea2-c83307add615"
      },
      "execution_count": 5,
      "outputs": [
        {
          "output_type": "stream",
          "name": "stdout",
          "text": [
            "Author     Topic                                    Pages     \n",
            "Twain      Rafting in water alone                          601\n",
            "Feynman    Physics                                          95\n",
            "Hamilton   Mythology                                       144\n"
          ]
        }
      ]
    },
    {
      "cell_type": "code",
      "source": [
        "# we can fix the problem with adding > symbol\n",
        "for author, topic, pages in books:\n",
        "  print(f\"{author:{10}} {topic:{40}} {pages:>{10}}\")"
      ],
      "metadata": {
        "colab": {
          "base_uri": "https://localhost:8080/"
        },
        "id": "Q9LNsjXcboM3",
        "outputId": "f83f5281-f95b-4270-972f-64913757568d"
      },
      "execution_count": 6,
      "outputs": [
        {
          "output_type": "stream",
          "name": "stdout",
          "text": [
            "Author     Topic                                         Pages\n",
            "Twain      Rafting in water alone                          601\n",
            "Feynman    Physics                                          95\n",
            "Hamilton   Mythology                                       144\n"
          ]
        }
      ]
    },
    {
      "cell_type": "code",
      "source": [
        "from datetime import datetime\n",
        "time = datetime(year=2022, month=7, day=5)"
      ],
      "metadata": {
        "id": "Y0dmOW_wcBFr"
      },
      "execution_count": 7,
      "outputs": []
    },
    {
      "cell_type": "code",
      "source": [
        "# time references cheat sheet :  https://strftime.org/\n",
        "print(f\"Today : {time:%D}\")"
      ],
      "metadata": {
        "colab": {
          "base_uri": "https://localhost:8080/"
        },
        "id": "dSc3M0Vtdiuu",
        "outputId": "4f425704-68ab-4729-ec62-8ff38b0e944c"
      },
      "execution_count": 8,
      "outputs": [
        {
          "output_type": "stream",
          "name": "stdout",
          "text": [
            "Today : 07/05/22\n"
          ]
        }
      ]
    },
    {
      "cell_type": "code",
      "source": [
        "# creating a text file\n",
        "%%writefile test.txt\n",
        "Hello, this is the quick test file.\n",
        "This is the second line of my test file."
      ],
      "metadata": {
        "colab": {
          "base_uri": "https://localhost:8080/"
        },
        "id": "5qi8CJb1dubW",
        "outputId": "dbcf4aa1-314a-489a-9628-f2a7b68b4ebb"
      },
      "execution_count": 9,
      "outputs": [
        {
          "output_type": "stream",
          "name": "stdout",
          "text": [
            "Writing test.txt\n"
          ]
        }
      ]
    },
    {
      "cell_type": "code",
      "source": [
        "myfile = open('test.txt')"
      ],
      "metadata": {
        "id": "mPeqVeO7ehBS"
      },
      "execution_count": 10,
      "outputs": []
    },
    {
      "cell_type": "code",
      "source": [
        "myfile.read()"
      ],
      "metadata": {
        "colab": {
          "base_uri": "https://localhost:8080/",
          "height": 35
        },
        "id": "-Eltkreces7f",
        "outputId": "a4c3fa5c-cc68-4031-ae4f-87479b8c2c12"
      },
      "execution_count": 11,
      "outputs": [
        {
          "output_type": "execute_result",
          "data": {
            "text/plain": [
              "'Hello, this is the quick test file.\\nThis is the second line of my test file.'"
            ],
            "application/vnd.google.colaboratory.intrinsic+json": {
              "type": "string"
            }
          },
          "metadata": {},
          "execution_count": 11
        }
      ]
    },
    {
      "cell_type": "code",
      "source": [
        "# you can not call .read() multiple times because when you read the file cursor goes to end og the file\n",
        "myfile.read()"
      ],
      "metadata": {
        "colab": {
          "base_uri": "https://localhost:8080/",
          "height": 35
        },
        "id": "oKMtMxWNet9A",
        "outputId": "03a66dff-e8d2-4904-b1fe-6ebbf43c8ec7"
      },
      "execution_count": 12,
      "outputs": [
        {
          "output_type": "execute_result",
          "data": {
            "text/plain": [
              "''"
            ],
            "application/vnd.google.colaboratory.intrinsic+json": {
              "type": "string"
            }
          },
          "metadata": {},
          "execution_count": 12
        }
      ]
    },
    {
      "cell_type": "code",
      "source": [
        "# to change the cursor's point to the start point\n",
        "myfile.seek(0)"
      ],
      "metadata": {
        "colab": {
          "base_uri": "https://localhost:8080/"
        },
        "id": "WCINkgfIfjtC",
        "outputId": "d31bc000-c2e3-4edb-922e-2e8a02fb3ae5"
      },
      "execution_count": 13,
      "outputs": [
        {
          "output_type": "execute_result",
          "data": {
            "text/plain": [
              "0"
            ]
          },
          "metadata": {},
          "execution_count": 13
        }
      ]
    },
    {
      "cell_type": "code",
      "source": [
        "myfile.read()"
      ],
      "metadata": {
        "colab": {
          "base_uri": "https://localhost:8080/",
          "height": 35
        },
        "id": "n-opp71rgn3i",
        "outputId": "1e250373-ccb3-4db6-cd21-9dc661f48cb7"
      },
      "execution_count": 14,
      "outputs": [
        {
          "output_type": "execute_result",
          "data": {
            "text/plain": [
              "'Hello, this is the quick test file.\\nThis is the second line of my test file.'"
            ],
            "application/vnd.google.colaboratory.intrinsic+json": {
              "type": "string"
            }
          },
          "metadata": {},
          "execution_count": 14
        }
      ]
    },
    {
      "cell_type": "code",
      "source": [
        "myfile.seek(0)\n",
        "content = myfile.read()"
      ],
      "metadata": {
        "id": "YE8mAt3PgpCZ"
      },
      "execution_count": 15,
      "outputs": []
    },
    {
      "cell_type": "code",
      "source": [
        "content"
      ],
      "metadata": {
        "colab": {
          "base_uri": "https://localhost:8080/",
          "height": 35
        },
        "id": "N_r806VDg15L",
        "outputId": "33f9789f-2af1-4f90-f4ee-b2b4c6995d4d"
      },
      "execution_count": 16,
      "outputs": [
        {
          "output_type": "execute_result",
          "data": {
            "text/plain": [
              "'Hello, this is the quick test file.\\nThis is the second line of my test file.'"
            ],
            "application/vnd.google.colaboratory.intrinsic+json": {
              "type": "string"
            }
          },
          "metadata": {},
          "execution_count": 16
        }
      ]
    },
    {
      "cell_type": "code",
      "source": [
        "print(content)"
      ],
      "metadata": {
        "colab": {
          "base_uri": "https://localhost:8080/"
        },
        "id": "IuG3M21Fg25I",
        "outputId": "8e126b36-0d11-4e6e-baab-8c3db29dc7e1"
      },
      "execution_count": 17,
      "outputs": [
        {
          "output_type": "stream",
          "name": "stdout",
          "text": [
            "Hello, this is the quick test file.\n",
            "This is the second line of my test file.\n"
          ]
        }
      ]
    },
    {
      "cell_type": "code",
      "source": [
        "# we shoul ALWAYS close the file once we're done working with it\n",
        "myfile.close()"
      ],
      "metadata": {
        "id": "SKvw73SLg6Z4"
      },
      "execution_count": 18,
      "outputs": []
    },
    {
      "cell_type": "code",
      "source": [
        "myfile = open('test.txt')"
      ],
      "metadata": {
        "id": "_1DzNI7shPGc"
      },
      "execution_count": 19,
      "outputs": []
    },
    {
      "cell_type": "code",
      "source": [
        "# to read lines as a seperate items in the list\n",
        "my_lines = myfile.readlines()"
      ],
      "metadata": {
        "id": "0AuqIfqOh1o3"
      },
      "execution_count": 20,
      "outputs": []
    },
    {
      "cell_type": "code",
      "source": [
        "for lines in my_lines:\n",
        "  print(lines.split()[0])"
      ],
      "metadata": {
        "colab": {
          "base_uri": "https://localhost:8080/"
        },
        "id": "Td0Cr-Drh79Z",
        "outputId": "07d026f4-1a93-4081-98f7-2fe9d505b29c"
      },
      "execution_count": 21,
      "outputs": [
        {
          "output_type": "stream",
          "name": "stdout",
          "text": [
            "Hello,\n",
            "This\n"
          ]
        }
      ]
    },
    {
      "cell_type": "code",
      "source": [
        "myfile.close()"
      ],
      "metadata": {
        "id": "RdCzuCCYiuIR"
      },
      "execution_count": 22,
      "outputs": []
    },
    {
      "cell_type": "code",
      "source": [
        "# how to write to a file\n",
        "\"\"\"\n",
        "'r'\topen for reading (default)\n",
        "'w'\topen for writing, truncating the file first\n",
        "'x'\tcreate a new file and open it for writing\n",
        "'a'\topen for writing, appending to the end of the file if it exists\n",
        "'b'\tbinary mode\n",
        "'t'\ttext mode (default)\n",
        "'+'\topen a disk file for updating (reading and writing)\n",
        "'U'\tuniversal newline mode (deprecated)\n",
        "\"\"\"\n",
        "# w+ allows to both read and write to the file\n",
        "myfile = open('test.txt', 'w+')"
      ],
      "metadata": {
        "id": "QzUbYs86iOD3"
      },
      "execution_count": 23,
      "outputs": []
    },
    {
      "cell_type": "code",
      "source": [
        "# it's empty . it's because we open file to both read and WRITE and it's overwrite :/\n",
        "myfile.read()"
      ],
      "metadata": {
        "colab": {
          "base_uri": "https://localhost:8080/",
          "height": 35
        },
        "id": "dBHk3PuejaYX",
        "outputId": "4fb61416-8c51-4389-bd44-3edfc4be0574"
      },
      "execution_count": 24,
      "outputs": [
        {
          "output_type": "execute_result",
          "data": {
            "text/plain": [
              "''"
            ],
            "application/vnd.google.colaboratory.intrinsic+json": {
              "type": "string"
            }
          },
          "metadata": {},
          "execution_count": 24
        }
      ]
    },
    {
      "cell_type": "code",
      "source": [
        "myfile.write('My brand new text.')"
      ],
      "metadata": {
        "colab": {
          "base_uri": "https://localhost:8080/"
        },
        "id": "0-yW0lXCjdVa",
        "outputId": "aa391e56-2348-43ab-fc90-99aff443539d"
      },
      "execution_count": 25,
      "outputs": [
        {
          "output_type": "execute_result",
          "data": {
            "text/plain": [
              "18"
            ]
          },
          "metadata": {},
          "execution_count": 25
        }
      ]
    },
    {
      "cell_type": "code",
      "source": [
        "myfile.seek(0)"
      ],
      "metadata": {
        "colab": {
          "base_uri": "https://localhost:8080/"
        },
        "id": "sYkIjVLcj1TE",
        "outputId": "a2b6fec9-1fe6-4baa-d1a6-8c05fb3071d1"
      },
      "execution_count": 26,
      "outputs": [
        {
          "output_type": "execute_result",
          "data": {
            "text/plain": [
              "0"
            ]
          },
          "metadata": {},
          "execution_count": 26
        }
      ]
    },
    {
      "cell_type": "code",
      "source": [
        "myfile.read()"
      ],
      "metadata": {
        "colab": {
          "base_uri": "https://localhost:8080/",
          "height": 35
        },
        "id": "dF0s5RYKj3OE",
        "outputId": "eae70847-2da0-41b6-9175-13658ab86b58"
      },
      "execution_count": 27,
      "outputs": [
        {
          "output_type": "execute_result",
          "data": {
            "text/plain": [
              "'My brand new text.'"
            ],
            "application/vnd.google.colaboratory.intrinsic+json": {
              "type": "string"
            }
          },
          "metadata": {},
          "execution_count": 27
        }
      ]
    },
    {
      "cell_type": "code",
      "source": [
        "myfile.close()"
      ],
      "metadata": {
        "id": "xyYWPqEJj7tS"
      },
      "execution_count": 28,
      "outputs": []
    },
    {
      "cell_type": "code",
      "source": [
        "# how to append to the file also if we open the files with the mode a+ we don't have to create the file before (but we cannot use default mode to create a file)\n",
        "myfile = open('test.txt', 'a+')"
      ],
      "metadata": {
        "id": "B3q4av-Zk24f"
      },
      "execution_count": 29,
      "outputs": []
    },
    {
      "cell_type": "code",
      "source": [
        "# with a+ we dont have to worry about the overwriting . It's just gonna append new lines to our test file\n",
        "myfile.write('Another new text to the file')"
      ],
      "metadata": {
        "colab": {
          "base_uri": "https://localhost:8080/"
        },
        "id": "4Hs_RWQLlKRy",
        "outputId": "5c842fa7-7e82-462a-bf88-26d8fd2264e6"
      },
      "execution_count": 30,
      "outputs": [
        {
          "output_type": "execute_result",
          "data": {
            "text/plain": [
              "28"
            ]
          },
          "metadata": {},
          "execution_count": 30
        }
      ]
    },
    {
      "cell_type": "code",
      "source": [
        "myfile.seek(0)\n",
        "myfile.read()"
      ],
      "metadata": {
        "colab": {
          "base_uri": "https://localhost:8080/",
          "height": 35
        },
        "id": "Z8f8A2c4lUYr",
        "outputId": "16b34532-5b5f-47e0-941c-6f0c5acc0280"
      },
      "execution_count": 31,
      "outputs": [
        {
          "output_type": "execute_result",
          "data": {
            "text/plain": [
              "'My brand new text.Another new text to the file'"
            ],
            "application/vnd.google.colaboratory.intrinsic+json": {
              "type": "string"
            }
          },
          "metadata": {},
          "execution_count": 31
        }
      ]
    },
    {
      "cell_type": "code",
      "source": [
        "# how to automatically close the file because .close is unsafe method we can forget to use it\n",
        "# context manager\n",
        "\n",
        "with open('test.txt', 'r') as newfile:\n",
        "  context = newfile.readlines()"
      ],
      "metadata": {
        "id": "XlgBQbqPlVzg"
      },
      "execution_count": 32,
      "outputs": []
    },
    {
      "cell_type": "code",
      "source": [
        "context"
      ],
      "metadata": {
        "colab": {
          "base_uri": "https://localhost:8080/"
        },
        "id": "DRNCX41fm6q_",
        "outputId": "876f5228-019a-43ad-a416-9e0532505e69"
      },
      "execution_count": 33,
      "outputs": [
        {
          "output_type": "execute_result",
          "data": {
            "text/plain": [
              "['My brand new text.Another new text to the file']"
            ]
          },
          "metadata": {},
          "execution_count": 33
        }
      ]
    },
    {
      "cell_type": "markdown",
      "source": [
        "-> Working with PDF files.\n",
        "\n",
        "Note that : not all pdfs have the text that can be extracted"
      ],
      "metadata": {
        "id": "EWQSTMR3nSA6"
      }
    },
    {
      "cell_type": "code",
      "source": [
        "!pip install PyPDF2"
      ],
      "metadata": {
        "colab": {
          "base_uri": "https://localhost:8080/"
        },
        "id": "y03BhFZKm-87",
        "outputId": "a45a8674-b00f-49ac-e25e-2a410f7fd7d0"
      },
      "execution_count": 34,
      "outputs": [
        {
          "output_type": "stream",
          "name": "stdout",
          "text": [
            "Looking in indexes: https://pypi.org/simple, https://us-python.pkg.dev/colab-wheels/public/simple/\n",
            "Collecting PyPDF2\n",
            "  Downloading PyPDF2-2.4.2-py3-none-any.whl (199 kB)\n",
            "\u001b[K     |████████████████████████████████| 199 kB 5.0 MB/s \n",
            "\u001b[?25hRequirement already satisfied: typing-extensions in /usr/local/lib/python3.7/dist-packages (from PyPDF2) (4.1.1)\n",
            "Installing collected packages: PyPDF2\n",
            "Successfully installed PyPDF2-2.4.2\n"
          ]
        }
      ]
    },
    {
      "cell_type": "code",
      "source": [
        "import PyPDF2 as pdf"
      ],
      "metadata": {
        "id": "IC2JV3F-n60W"
      },
      "execution_count": 35,
      "outputs": []
    },
    {
      "cell_type": "code",
      "source": [
        "# rb mode is short for read binary\n",
        "myfile = open('US_Declaration.pdf', 'rb')"
      ],
      "metadata": {
        "id": "Tx5sYN3NoAzs"
      },
      "execution_count": 36,
      "outputs": []
    },
    {
      "cell_type": "code",
      "source": [
        "pdf_reader = pdf.PdfFileReader(myfile)"
      ],
      "metadata": {
        "id": "mb4Fj__Aoljz"
      },
      "execution_count": 37,
      "outputs": []
    },
    {
      "cell_type": "code",
      "source": [
        "pdf_reader.numPages"
      ],
      "metadata": {
        "colab": {
          "base_uri": "https://localhost:8080/"
        },
        "id": "UrBVdeWuovZB",
        "outputId": "fce40b8c-e9c8-4130-9b35-55c9ea9145f3"
      },
      "execution_count": 38,
      "outputs": [
        {
          "output_type": "execute_result",
          "data": {
            "text/plain": [
              "5"
            ]
          },
          "metadata": {},
          "execution_count": 38
        }
      ]
    },
    {
      "cell_type": "code",
      "source": [
        "page1 = pdf_reader.getPage(0)\n",
        "page1.extract_text()"
      ],
      "metadata": {
        "colab": {
          "base_uri": "https://localhost:8080/",
          "height": 105
        },
        "id": "9Eos0n_Co3At",
        "outputId": "ee6a68e1-53e1-43e4-bfca-fd920a739962"
      },
      "execution_count": 39,
      "outputs": [
        {
          "output_type": "execute_result",
          "data": {
            "text/plain": [
              "\" Declaration of Independence\\nIN CONGRESS, July 4, 1776.  \\nThe unanimous Declaration of the thirteen united States of America, \\nWhen in the Course of human events, it becomes necessary for one people to dissolve the\\npolitical bands which have connected them with another, and to assume among the powers of the\\nearth, the separate and equal station to which the Laws of Nature and of Nature's God entitle\\nthem, a decent respect to the opinions of mankind requires that they should declare the causes\\nwhich impel them to the separation. \\nWe hold these truths to be self-evident, that all men are created equal, that they are endowed by\\ntheir Creator with certain unalienable Rights, that among these are Life, Liberty and the pursuit\\nof Happiness.— \\x14That to secure these rights, Governments are instituted among Men, deriving\\ntheir just powers from the consent of the governed,—  \\x14That whenever any Form of Government\\nbecomes destructive of these ends, it is the Right of the People to alter or to abolish it, and to\\ninstitute new Government, laying its foundation on such principles and organizing its powers in\\nsuch form, as to them shall seem most likely to effect their Safety and Happiness. Prudence,\\nindeed, will dictate that Governments long established should not be changed for light and\\ntransient causes; and accordingly all experience hath shewn, that mankind are more disposed to\\nsuffer, while evils are sufferable, than to right themselves by abolishing the forms to which they\\nare accustomed. But when a long train of abuses and usurpations, pursuing invariably the same\\nObject evinces a design to reduce them under absolute Despotism, it is their right, it is their duty,\\nto throw off such Government, and to provide new Guards for their future security.— \\x14Such has\\nbeen the patient sufferance of these Colonies; and such is now the necessity which constrains\\nthem to alter their former Systems of Government. The history of the present King of Great\\nBritain is a history of repeated injuries and usurpations, all having in direct object the\\nestablishment of an absolute Tyranny over these States. To prove this, let Facts be submitted to a\\ncandid world. \\nHe has refused his Assent to Laws, the most wholesome and necessary for the\\npublic good.\\nHe has forbidden his Governors to pass Laws of immediate and pressing\\nimportance, unless suspended in their operation till his Assent should be obtained;\\nand when so suspended, he has utterly neglected to attend to them.\\nHe has refused to pass other Laws for the accommodation of large districts of\\npeople, unless those people would relinquish the right of Representation in the\\nLegislature, a right inestimable to them and formidable to tyrants only. \\nHe has called together legislative bodies at places unusual, uncomfortable, and distant\\nfrom the depository of their public Records, for the sole purpose of fatiguing them into\\ncompliance with his measures.\""
            ],
            "application/vnd.google.colaboratory.intrinsic+json": {
              "type": "string"
            }
          },
          "metadata": {},
          "execution_count": 39
        }
      ]
    },
    {
      "cell_type": "code",
      "source": [
        "print(page1.extract_text())"
      ],
      "metadata": {
        "colab": {
          "base_uri": "https://localhost:8080/"
        },
        "id": "1McDqHDIpE50",
        "outputId": "5d742d50-b5c5-4289-d792-8c42fcddaf15"
      },
      "execution_count": 40,
      "outputs": [
        {
          "output_type": "stream",
          "name": "stdout",
          "text": [
            " Declaration of Independence\n",
            "IN CONGRESS, July 4, 1776.  \n",
            "The unanimous Declaration of the thirteen united States of America, \n",
            "When in the Course of human events, it becomes necessary for one people to dissolve the\n",
            "political bands which have connected them with another, and to assume among the powers of the\n",
            "earth, the separate and equal station to which the Laws of Nature and of Nature's God entitle\n",
            "them, a decent respect to the opinions of mankind requires that they should declare the causes\n",
            "which impel them to the separation. \n",
            "We hold these truths to be self-evident, that all men are created equal, that they are endowed by\n",
            "their Creator with certain unalienable Rights, that among these are Life, Liberty and the pursuit\n",
            "of Happiness.— \u0014That to secure these rights, Governments are instituted among Men, deriving\n",
            "their just powers from the consent of the governed,—  \u0014That whenever any Form of Government\n",
            "becomes destructive of these ends, it is the Right of the People to alter or to abolish it, and to\n",
            "institute new Government, laying its foundation on such principles and organizing its powers in\n",
            "such form, as to them shall seem most likely to effect their Safety and Happiness. Prudence,\n",
            "indeed, will dictate that Governments long established should not be changed for light and\n",
            "transient causes; and accordingly all experience hath shewn, that mankind are more disposed to\n",
            "suffer, while evils are sufferable, than to right themselves by abolishing the forms to which they\n",
            "are accustomed. But when a long train of abuses and usurpations, pursuing invariably the same\n",
            "Object evinces a design to reduce them under absolute Despotism, it is their right, it is their duty,\n",
            "to throw off such Government, and to provide new Guards for their future security.— \u0014Such has\n",
            "been the patient sufferance of these Colonies; and such is now the necessity which constrains\n",
            "them to alter their former Systems of Government. The history of the present King of Great\n",
            "Britain is a history of repeated injuries and usurpations, all having in direct object the\n",
            "establishment of an absolute Tyranny over these States. To prove this, let Facts be submitted to a\n",
            "candid world. \n",
            "He has refused his Assent to Laws, the most wholesome and necessary for the\n",
            "public good.\n",
            "He has forbidden his Governors to pass Laws of immediate and pressing\n",
            "importance, unless suspended in their operation till his Assent should be obtained;\n",
            "and when so suspended, he has utterly neglected to attend to them.\n",
            "He has refused to pass other Laws for the accommodation of large districts of\n",
            "people, unless those people would relinquish the right of Representation in the\n",
            "Legislature, a right inestimable to them and formidable to tyrants only. \n",
            "He has called together legislative bodies at places unusual, uncomfortable, and distant\n",
            "from the depository of their public Records, for the sole purpose of fatiguing them into\n",
            "compliance with his measures.\n"
          ]
        }
      ]
    },
    {
      "cell_type": "code",
      "source": [
        "mytext = page1.extract_text()"
      ],
      "metadata": {
        "id": "MxC06nlgpXLH"
      },
      "execution_count": 41,
      "outputs": []
    },
    {
      "cell_type": "code",
      "source": [
        "myfile.close()"
      ],
      "metadata": {
        "id": "SVWoOLBQpkOv"
      },
      "execution_count": 42,
      "outputs": []
    },
    {
      "cell_type": "code",
      "source": [
        "# append a new pdf page to the original file\n",
        "f = open('US_Declaration.pdf', 'rb')"
      ],
      "metadata": {
        "id": "_ClkZ_Y4plRI"
      },
      "execution_count": 43,
      "outputs": []
    },
    {
      "cell_type": "code",
      "source": [
        "pdf_reader = pdf.PdfFileReader(f)"
      ],
      "metadata": {
        "id": "mFDFgFEgp-HW"
      },
      "execution_count": 44,
      "outputs": []
    },
    {
      "cell_type": "code",
      "source": [
        "page1 = pdf_reader.getPage(0)"
      ],
      "metadata": {
        "id": "EsFApHZWp_op"
      },
      "execution_count": 45,
      "outputs": []
    },
    {
      "cell_type": "code",
      "source": [
        "pdf_writer = pdf.PdfFileWriter()"
      ],
      "metadata": {
        "id": "l8hYgILOqN_b"
      },
      "execution_count": 46,
      "outputs": []
    },
    {
      "cell_type": "code",
      "source": [
        "pdf_writer.addPage(page1)"
      ],
      "metadata": {
        "id": "vQkjIobcqVNE"
      },
      "execution_count": 47,
      "outputs": []
    },
    {
      "cell_type": "code",
      "source": [
        "pdf_output = open('new_file.pdf', 'wb')"
      ],
      "metadata": {
        "id": "_cwXAqr-qnp1"
      },
      "execution_count": 48,
      "outputs": []
    },
    {
      "cell_type": "code",
      "source": [
        "pdf_writer.write(pdf_output)"
      ],
      "metadata": {
        "id": "UpLwh0JSqs0a"
      },
      "execution_count": 49,
      "outputs": []
    },
    {
      "cell_type": "code",
      "source": [
        "pdf_output.close()"
      ],
      "metadata": {
        "id": "hBANyIOSq95F"
      },
      "execution_count": 50,
      "outputs": []
    },
    {
      "cell_type": "code",
      "source": [
        "f.close()"
      ],
      "metadata": {
        "id": "Vg5Bsimiq_SV"
      },
      "execution_count": 51,
      "outputs": []
    },
    {
      "cell_type": "code",
      "source": [
        "copied_page = open('new_file.pdf', 'rb')\n",
        "pdf_reader = pdf.PdfFileReader(copied_page)"
      ],
      "metadata": {
        "id": "4NLt3QMxrCd8"
      },
      "execution_count": 52,
      "outputs": []
    },
    {
      "cell_type": "code",
      "source": [
        "pdf_reader.getNumPages()"
      ],
      "metadata": {
        "colab": {
          "base_uri": "https://localhost:8080/"
        },
        "id": "ZhpiTaJRrRhi",
        "outputId": "55193745-392b-4420-855c-6d906bc8468d"
      },
      "execution_count": 53,
      "outputs": [
        {
          "output_type": "execute_result",
          "data": {
            "text/plain": [
              "1"
            ]
          },
          "metadata": {},
          "execution_count": 53
        }
      ]
    },
    {
      "cell_type": "code",
      "source": [
        "page1 = pdf_reader.getPage(0)\n",
        "print(page1.extract_text())"
      ],
      "metadata": {
        "colab": {
          "base_uri": "https://localhost:8080/"
        },
        "id": "LbYEEuwTrTu1",
        "outputId": "7eeed597-1dfc-4748-a028-588b647331eb"
      },
      "execution_count": 54,
      "outputs": [
        {
          "output_type": "stream",
          "name": "stdout",
          "text": [
            " Declaration of Independence\n",
            "IN CONGRESS, July 4, 1776.  \n",
            "The unanimous Declaration of the thirteen united States of America, \n",
            "When in the Course of human events, it becomes necessary for one people to dissolve the\n",
            "political bands which have connected them with another, and to assume among the powers of the\n",
            "earth, the separate and equal station to which the Laws of Nature and of Nature's God entitle\n",
            "them, a decent respect to the opinions of mankind requires that they should declare the causes\n",
            "which impel them to the separation. \n",
            "We hold these truths to be self-evident, that all men are created equal, that they are endowed by\n",
            "their Creator with certain unalienable Rights, that among these are Life, Liberty and the pursuit\n",
            "of Happiness.— \u0014That to secure these rights, Governments are instituted among Men, deriving\n",
            "their just powers from the consent of the governed,—  \u0014That whenever any Form of Government\n",
            "becomes destructive of these ends, it is the Right of the People to alter or to abolish it, and to\n",
            "institute new Government, laying its foundation on such principles and organizing its powers in\n",
            "such form, as to them shall seem most likely to effect their Safety and Happiness. Prudence,\n",
            "indeed, will dictate that Governments long established should not be changed for light and\n",
            "transient causes; and accordingly all experience hath shewn, that mankind are more disposed to\n",
            "suffer, while evils are sufferable, than to right themselves by abolishing the forms to which they\n",
            "are accustomed. But when a long train of abuses and usurpations, pursuing invariably the same\n",
            "Object evinces a design to reduce them under absolute Despotism, it is their right, it is their duty,\n",
            "to throw off such Government, and to provide new Guards for their future security.— \u0014Such has\n",
            "been the patient sufferance of these Colonies; and such is now the necessity which constrains\n",
            "them to alter their former Systems of Government. The history of the present King of Great\n",
            "Britain is a history of repeated injuries and usurpations, all having in direct object the\n",
            "establishment of an absolute Tyranny over these States. To prove this, let Facts be submitted to a\n",
            "candid world. \n",
            "He has refused his Assent to Laws, the most wholesome and necessary for the\n",
            "public good.\n",
            "He has forbidden his Governors to pass Laws of immediate and pressing\n",
            "importance, unless suspended in their operation till his Assent should be obtained;\n",
            "and when so suspended, he has utterly neglected to attend to them.\n",
            "He has refused to pass other Laws for the accommodation of large districts of\n",
            "people, unless those people would relinquish the right of Representation in the\n",
            "Legislature, a right inestimable to them and formidable to tyrants only. \n",
            "He has called together legislative bodies at places unusual, uncomfortable, and distant\n",
            "from the depository of their public Records, for the sole purpose of fatiguing them into\n",
            "compliance with his measures.\n"
          ]
        }
      ]
    },
    {
      "cell_type": "markdown",
      "source": [
        "Regular Expressions allow for pattern searching in a text document.\n",
        "\n",
        "\\d is for digits for example r'\\d{3}-\\d{2}' can be -> 789-52"
      ],
      "metadata": {
        "id": "RqaUrCY8pVfa"
      }
    },
    {
      "cell_type": "code",
      "source": [
        "text = \"The phone number of the agent is 507-23-4566. Call soon!\""
      ],
      "metadata": {
        "id": "TwhxYIYOrjHD"
      },
      "execution_count": 55,
      "outputs": []
    },
    {
      "cell_type": "code",
      "source": [
        "# 507-23-4566 in this case we know the actual phone number so we can search for it\n",
        "\"507-23-4566\" in text"
      ],
      "metadata": {
        "colab": {
          "base_uri": "https://localhost:8080/"
        },
        "id": "BKfRn6BJqci1",
        "outputId": "9ff6a8a7-0d1b-445d-dd8c-40f5e2328ad4"
      },
      "execution_count": 56,
      "outputs": [
        {
          "output_type": "execute_result",
          "data": {
            "text/plain": [
              "True"
            ]
          },
          "metadata": {},
          "execution_count": 56
        }
      ]
    },
    {
      "cell_type": "code",
      "source": [
        "# but what if we don't know\n",
        "import re"
      ],
      "metadata": {
        "id": "H3jBn3DSqsYN"
      },
      "execution_count": 57,
      "outputs": []
    },
    {
      "cell_type": "code",
      "source": [
        "pattern = r'\\d{3}-\\d{2}-\\d{4}'\n",
        "re.search(pattern, text)"
      ],
      "metadata": {
        "colab": {
          "base_uri": "https://localhost:8080/"
        },
        "id": "eyFPG5frrgsl",
        "outputId": "82775deb-77f9-4b0e-bdb7-dc5fab6a5b4b"
      },
      "execution_count": 60,
      "outputs": [
        {
          "output_type": "execute_result",
          "data": {
            "text/plain": [
              "<re.Match object; span=(33, 44), match='507-23-4566'>"
            ]
          },
          "metadata": {},
          "execution_count": 60
        }
      ]
    },
    {
      "cell_type": "code",
      "source": [
        "match = re.search(pattern, text)\n",
        "match.span()"
      ],
      "metadata": {
        "colab": {
          "base_uri": "https://localhost:8080/"
        },
        "id": "FekuDKpNsXHm",
        "outputId": "8e07e427-8782-4a81-e8e0-c53f877fc23d"
      },
      "execution_count": 61,
      "outputs": [
        {
          "output_type": "execute_result",
          "data": {
            "text/plain": [
              "(33, 44)"
            ]
          },
          "metadata": {},
          "execution_count": 61
        }
      ]
    },
    {
      "cell_type": "code",
      "source": [
        "match.group()"
      ],
      "metadata": {
        "colab": {
          "base_uri": "https://localhost:8080/",
          "height": 35
        },
        "id": "I8cwMtWcsYau",
        "outputId": "5709f6fc-57fe-4fb0-f27b-fe62560caf74"
      },
      "execution_count": 62,
      "outputs": [
        {
          "output_type": "execute_result",
          "data": {
            "text/plain": [
              "'507-23-4566'"
            ],
            "application/vnd.google.colaboratory.intrinsic+json": {
              "type": "string"
            }
          },
          "metadata": {},
          "execution_count": 62
        }
      ]
    },
    {
      "cell_type": "code",
      "source": [
        "pattern = r'(\\d{3})-(\\d{2})-(\\d{4})'\n",
        "match = re.search(pattern, text)"
      ],
      "metadata": {
        "id": "h17f5IWgsxei"
      },
      "execution_count": 63,
      "outputs": []
    },
    {
      "cell_type": "code",
      "source": [
        "# with the parantheses we can call the patterns into parantheses individually\n",
        "match.group(1)"
      ],
      "metadata": {
        "colab": {
          "base_uri": "https://localhost:8080/",
          "height": 35
        },
        "id": "8frZFQLQuLly",
        "outputId": "e3e2002f-158e-4c2d-ba01-514bdef0ddd5"
      },
      "execution_count": 65,
      "outputs": [
        {
          "output_type": "execute_result",
          "data": {
            "text/plain": [
              "'507'"
            ],
            "application/vnd.google.colaboratory.intrinsic+json": {
              "type": "string"
            }
          },
          "metadata": {},
          "execution_count": 65
        }
      ]
    },
    {
      "cell_type": "code",
      "source": [
        "re.findall(r'.at', \"The cat in the hat sat splat.\") # notice, we got lat from splat it's because we used only one dot(dot specifies to the chracter(s) before the pattern that we're looking for)"
      ],
      "metadata": {
        "colab": {
          "base_uri": "https://localhost:8080/"
        },
        "id": "96NsJ2_huM8v",
        "outputId": "a57614f1-21a6-47fa-b3b8-e8c7177b7088"
      },
      "execution_count": 67,
      "outputs": [
        {
          "output_type": "execute_result",
          "data": {
            "text/plain": [
              "['cat', 'hat', 'sat', 'lat']"
            ]
          },
          "metadata": {},
          "execution_count": 67
        }
      ]
    },
    {
      "cell_type": "code",
      "source": [
        ""
      ],
      "metadata": {
        "id": "JTN8J47jvHnb"
      },
      "execution_count": null,
      "outputs": []
    }
  ]
}